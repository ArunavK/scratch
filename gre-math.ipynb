{
 "cells": [
  {
   "cell_type": "markdown",
   "source": [
    "$$\r\n",
    "\\begin{align*}\r\n",
    "x^2 + 3x - 10 &= 0 \\\\\r\n",
    "x^2 + 5x - 2x - 10 &= 0 \\\\\r\n",
    "x(x + 5) -2 (x + 5) &= 0 \\\\\r\n",
    "(x + 5)(x - 2) &= 0\r\n",
    "\\end{align*}\r\n",
    "$$"
   ],
   "metadata": {}
  },
  {
   "cell_type": "markdown",
   "source": [],
   "metadata": {}
  }
 ],
 "metadata": {
  "orig_nbformat": 4,
  "language_info": {
   "name": "python",
   "version": "3.9.7"
  },
  "kernelspec": {
   "name": "python3",
   "display_name": "Python 3.9.7 64-bit ('tf-accel': conda)"
  },
  "interpreter": {
   "hash": "5facf633d915b91961ccba9a24a241aa7b1e4aca74b3645c59d55ecae4123c80"
  }
 },
 "nbformat": 4,
 "nbformat_minor": 2
}