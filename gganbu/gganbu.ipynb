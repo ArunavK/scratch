{
 "cells": [
  {
   "cell_type": "code",
   "execution_count": 7,
   "source": [
    "import numpy as np\r\n",
    "import matplotlib.pyplot as plt\r\n",
    "import random as rnd"
   ],
   "outputs": [],
   "metadata": {}
  },
  {
   "cell_type": "code",
   "execution_count": 10,
   "source": [
    "def query(funds, human=True):\r\n",
    "    if human:\r\n",
    "        bet = int(input(\"What is your bet? : \"))\r\n",
    "        while bet > funds:\r\n",
    "            print(\"Insufficient funds!\")\r\n",
    "            bet = input(\"What is your bet? : \")\r\n",
    "        guess = input(\"What is your guess? : \")\r\n",
    "    else:\r\n",
    "        bet = rnd.randint(1, funds)\r\n",
    "        guess = rnd.randint(0, 1)\r\n",
    "\r\n",
    "    return int(bet), bool(guess)"
   ],
   "outputs": [],
   "metadata": {}
  },
  {
   "cell_type": "code",
   "execution_count": 13,
   "source": [
    "def guess_2_str(guess):\r\n",
    "    if(guess%2):\r\n",
    "        return 'Odd'\r\n",
    "    else:\r\n",
    "        return 'Even'\r\n"
   ],
   "outputs": [],
   "metadata": {}
  },
  {
   "cell_type": "code",
   "execution_count": 19,
   "source": [
    "def show_stats(i, A, B, offer, guess, bet):\r\n",
    "    if(i%2):\r\n",
    "        offerer = \"Computer\"\r\n",
    "        guesser = \"Human\"\r\n",
    "    else:\r\n",
    "        offerer = \"Human\"\r\n",
    "        guesser = \"Computer\"\r\n",
    "    \r\n",
    "    if guess:\r\n",
    "        guess_str = 'Odd'\r\n",
    "    else:\r\n",
    "        guess_str = 'Even'\r\n",
    "\r\n",
    "    print(f'{offerer} offered {offer}; {guesser} guessed {guess_str}')\r\n",
    "    print(f'{guesser} bet {bet}')\r\n",
    "    print(f'A : {A}')\r\n",
    "    print(f'B : {B}')"
   ],
   "outputs": [],
   "metadata": {}
  },
  {
   "cell_type": "code",
   "execution_count": 21,
   "source": [
    "A = 10 # Human\r\n",
    "B = 10 # Computer\r\n",
    "\r\n",
    "i = 1\r\n",
    "print(f'A : {A}')\r\n",
    "print(f'B : {B}')\r\n",
    "while(A > 0 and B > 0):\r\n",
    "    print('\\n------------------------------')\r\n",
    "    print(f'Game {i}') \r\n",
    "   \r\n",
    "    if(i%2==1):\r\n",
    "       # A guesses and bets \r\n",
    "        print(\"Your turn to bet, human.\")\r\n",
    "        bet, guess = query(funds=A)\r\n",
    "        offer = rnd.randint(0, B)\r\n",
    "\r\n",
    "        if offer%2 == guess%2:\r\n",
    "            # A guessed correctly\r\n",
    "            print(\"You got lucky\")\r\n",
    "            A += bet\r\n",
    "            B -= bet\r\n",
    "\r\n",
    "            show_stats(i, A, B, offer, guess, bet)\r\n",
    "        \r\n",
    "        else:\r\n",
    "            # A guessed incorrectly\r\n",
    "            print(\"Pathetic\")\r\n",
    "            A -= bet\r\n",
    "            B += bet\r\n",
    "\r\n",
    "            show_stats(i, A, B, offer, guess, bet)\r\n",
    "    else:\r\n",
    "        # B guesses and bets\r\n",
    "        bet, guess = query(funds=B, human=False)\r\n",
    "        print(\"Offer your hand, mortal\")\r\n",
    "        offer = int(input(\"What do you offer? : \"))\r\n",
    "        \r\n",
    "        if offer%2 == guess%2:\r\n",
    "            # B guessed correctly\r\n",
    "            print(\"You are no match for me!\")\r\n",
    "            A -= bet\r\n",
    "            B += guess\r\n",
    "            show_stats(i, A, B, offer, guess, bet)\r\n",
    "        else:\r\n",
    "            # B guessed incorrectly\r\n",
    "            print(\"Grr...\")\r\n",
    "            A += bet\r\n",
    "            B -= guess\r\n",
    "            show_stats(i, A, B, offer, guess, bet)\r\n",
    "        \r\n",
    "    i += 1"
   ],
   "outputs": [
    {
     "output_type": "stream",
     "name": "stdout",
     "text": [
      "\n",
      "------------------------------\n",
      "Game 1\n",
      "Your turn to bet, human.\n",
      "Pathetic\n",
      "A : 5\n",
      "B : 15\n",
      "Computer offered 2; Human guessed Odd\n",
      "Human bet 5\n",
      "\n",
      "------------------------------\n",
      "Game 2\n",
      "Offer your hand, mortal\n",
      "Grr...\n",
      "A : 10\n",
      "B : 14\n",
      "Human offered 6; Computer guessed Odd\n",
      "Computer bet 5\n",
      "\n",
      "------------------------------\n",
      "Game 3\n",
      "Your turn to bet, human.\n",
      "You got lucky\n",
      "A : 12\n",
      "B : 12\n",
      "Computer offered 1; Human guessed Odd\n",
      "Human bet 2\n",
      "\n",
      "------------------------------\n",
      "Game 4\n",
      "Offer your hand, mortal\n",
      "You are no match for me!\n",
      "A : 10\n",
      "B : 13\n",
      "Human offered 5; Computer guessed Odd\n",
      "Computer bet 2\n",
      "\n",
      "------------------------------\n",
      "Game 5\n",
      "Your turn to bet, human.\n"
     ]
    },
    {
     "output_type": "error",
     "ename": "ValueError",
     "evalue": "invalid literal for int() with base 10: ''",
     "traceback": [
      "\u001b[1;31m---------------------------------------------------------------------------\u001b[0m",
      "\u001b[1;31mValueError\u001b[0m                                Traceback (most recent call last)",
      "\u001b[1;32m~\\AppData\\Local\\Temp/ipykernel_4720/1388853382.py\u001b[0m in \u001b[0;36m<module>\u001b[1;34m\u001b[0m\n\u001b[0;32m     10\u001b[0m        \u001b[1;31m# A guesses and bets\u001b[0m\u001b[1;33m\u001b[0m\u001b[1;33m\u001b[0m\u001b[0m\n\u001b[0;32m     11\u001b[0m         \u001b[0mprint\u001b[0m\u001b[1;33m(\u001b[0m\u001b[1;34m\"Your turn to bet, human.\"\u001b[0m\u001b[1;33m)\u001b[0m\u001b[1;33m\u001b[0m\u001b[1;33m\u001b[0m\u001b[0m\n\u001b[1;32m---> 12\u001b[1;33m         \u001b[0mbet\u001b[0m\u001b[1;33m,\u001b[0m \u001b[0mguess\u001b[0m \u001b[1;33m=\u001b[0m \u001b[0mquery\u001b[0m\u001b[1;33m(\u001b[0m\u001b[0mfunds\u001b[0m\u001b[1;33m=\u001b[0m\u001b[0mA\u001b[0m\u001b[1;33m)\u001b[0m\u001b[1;33m\u001b[0m\u001b[1;33m\u001b[0m\u001b[0m\n\u001b[0m\u001b[0;32m     13\u001b[0m         \u001b[0moffer\u001b[0m \u001b[1;33m=\u001b[0m \u001b[0mrnd\u001b[0m\u001b[1;33m.\u001b[0m\u001b[0mrandint\u001b[0m\u001b[1;33m(\u001b[0m\u001b[1;36m0\u001b[0m\u001b[1;33m,\u001b[0m \u001b[0mB\u001b[0m\u001b[1;33m)\u001b[0m\u001b[1;33m\u001b[0m\u001b[1;33m\u001b[0m\u001b[0m\n\u001b[0;32m     14\u001b[0m \u001b[1;33m\u001b[0m\u001b[0m\n",
      "\u001b[1;32m~\\AppData\\Local\\Temp/ipykernel_4720/3876954075.py\u001b[0m in \u001b[0;36mquery\u001b[1;34m(funds, human)\u001b[0m\n\u001b[0;32m      1\u001b[0m \u001b[1;32mdef\u001b[0m \u001b[0mquery\u001b[0m\u001b[1;33m(\u001b[0m\u001b[0mfunds\u001b[0m\u001b[1;33m,\u001b[0m \u001b[0mhuman\u001b[0m\u001b[1;33m=\u001b[0m\u001b[1;32mTrue\u001b[0m\u001b[1;33m)\u001b[0m\u001b[1;33m:\u001b[0m\u001b[1;33m\u001b[0m\u001b[1;33m\u001b[0m\u001b[0m\n\u001b[0;32m      2\u001b[0m     \u001b[1;32mif\u001b[0m \u001b[0mhuman\u001b[0m\u001b[1;33m:\u001b[0m\u001b[1;33m\u001b[0m\u001b[1;33m\u001b[0m\u001b[0m\n\u001b[1;32m----> 3\u001b[1;33m         \u001b[0mbet\u001b[0m \u001b[1;33m=\u001b[0m \u001b[0mint\u001b[0m\u001b[1;33m(\u001b[0m\u001b[0minput\u001b[0m\u001b[1;33m(\u001b[0m\u001b[1;34m\"What is your bet? : \"\u001b[0m\u001b[1;33m)\u001b[0m\u001b[1;33m)\u001b[0m\u001b[1;33m\u001b[0m\u001b[1;33m\u001b[0m\u001b[0m\n\u001b[0m\u001b[0;32m      4\u001b[0m         \u001b[1;32mwhile\u001b[0m \u001b[0mbet\u001b[0m \u001b[1;33m>\u001b[0m \u001b[0mfunds\u001b[0m\u001b[1;33m:\u001b[0m\u001b[1;33m\u001b[0m\u001b[1;33m\u001b[0m\u001b[0m\n\u001b[0;32m      5\u001b[0m             \u001b[0mprint\u001b[0m\u001b[1;33m(\u001b[0m\u001b[1;34m\"Insufficient funds!\"\u001b[0m\u001b[1;33m)\u001b[0m\u001b[1;33m\u001b[0m\u001b[1;33m\u001b[0m\u001b[0m\n",
      "\u001b[1;31mValueError\u001b[0m: invalid literal for int() with base 10: ''"
     ]
    }
   ],
   "metadata": {}
  }
 ],
 "metadata": {
  "orig_nbformat": 4,
  "language_info": {
   "name": "python",
   "version": "3.9.7",
   "mimetype": "text/x-python",
   "codemirror_mode": {
    "name": "ipython",
    "version": 3
   },
   "pygments_lexer": "ipython3",
   "nbconvert_exporter": "python",
   "file_extension": ".py"
  },
  "kernelspec": {
   "name": "python3",
   "display_name": "Python 3.9.7 64-bit ('tf-accel': conda)"
  },
  "interpreter": {
   "hash": "5facf633d915b91961ccba9a24a241aa7b1e4aca74b3645c59d55ecae4123c80"
  }
 },
 "nbformat": 4,
 "nbformat_minor": 2
}